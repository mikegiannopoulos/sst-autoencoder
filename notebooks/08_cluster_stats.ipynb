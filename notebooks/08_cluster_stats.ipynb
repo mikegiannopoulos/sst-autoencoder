{
 "cells": [
  {
   "cell_type": "code",
   "execution_count": 1,
   "id": "74903b9f",
   "metadata": {},
   "outputs": [],
   "source": [
    "import numpy as np\n",
    "from pathlib import Path\n",
    "import matplotlib.pyplot as plt\n",
    "\n",
    "# Paths\n",
    "project_root = Path(\"..\").resolve()\n",
    "patch_path = project_root / \"data/patches/sst_patches_64x64.npy\"\n",
    "coord_path = project_root / \"data/patches/sst_patch_coords.npy\"\n",
    "umap_path  = project_root / \"outputs/sst_umap_embeddings.npy\"\n",
    "\n",
    "# Load data\n",
    "patches = np.load(patch_path)\n",
    "coords = np.load(coord_path)\n",
    "\n",
    "# Align embeddings & run clustering again\n",
    "from sklearn.cluster import DBSCAN\n",
    "embeddings = np.load(umap_path)[:len(patches)]\n",
    "labels = DBSCAN(eps=0.5, min_samples=10).fit_predict(embeddings)"
   ]
  },
  {
   "cell_type": "markdown",
   "id": "bb86dfb6",
   "metadata": {},
   "source": [
    "📊 Stats"
   ]
  },
  {
   "cell_type": "code",
   "execution_count": 2,
   "id": "9cf1fe42",
   "metadata": {},
   "outputs": [
    {
     "name": "stdout",
     "output_type": "stream",
     "text": [
      "\n",
      "🌀 Cluster -1 — 1 patches\n",
      "🌡️  Mean SST: 25.64 °C\n",
      "📉  Std Dev:  0.95\n",
      "❄️  NaN fraction: 0.0%\n",
      "🧭  Lat range: -5.4 to -5.4 (mean: -5.4)\n",
      "\n",
      "🌀 Cluster 0 — 828 patches\n",
      "🌡️  Mean SST: 7.11 °C\n",
      "📉  Std Dev:  6.32\n",
      "❄️  NaN fraction: 0.9%\n",
      "🧭  Lat range: -71.6 to -26.9 (mean: -50.9)\n",
      "\n",
      "🌀 Cluster 1 — 129 patches\n",
      "🌡️  Mean SST: 24.85 °C\n",
      "📉  Std Dev:  2.08\n",
      "❄️  NaN fraction: 0.9%\n",
      "🧭  Lat range: -30.6 to 35.1 (mean: -16.6)\n",
      "\n",
      "🌀 Cluster 2 — 1191 patches\n",
      "🌡️  Mean SST: 21.71 °C\n",
      "📉  Std Dev:  9.86\n",
      "❄️  NaN fraction: 1.3%\n",
      "🧭  Lat range: -71.4 to 81.9 (mean: 20.3)\n",
      "\n",
      "🌀 Cluster 3 — 250 patches\n",
      "🌡️  Mean SST: 20.67 °C\n",
      "📉  Std Dev:  3.31\n",
      "❄️  NaN fraction: 0.6%\n",
      "🧭  Lat range: -42.1 to -9.1 (mean: -29.6)\n"
     ]
    }
   ],
   "source": [
    "for cluster_id in np.unique(labels):\n",
    "    mask = labels == cluster_id\n",
    "    cluster_patches = patches[mask]\n",
    "    cluster_coords = coords[mask]\n",
    "    \n",
    "    mean_sst = np.nanmean(cluster_patches)\n",
    "    std_sst = np.nanstd(cluster_patches)\n",
    "    nan_frac = np.isnan(cluster_patches).mean()\n",
    "    mean_lat = cluster_coords[:, 0].mean()\n",
    "    lat_range = cluster_coords[:, 0].min(), cluster_coords[:, 0].max()\n",
    "    \n",
    "    print(f\"\\n🌀 Cluster {cluster_id} — {mask.sum()} patches\")\n",
    "    print(f\"🌡️  Mean SST: {mean_sst:.2f} °C\")\n",
    "    print(f\"📉  Std Dev:  {std_sst:.2f}\")\n",
    "    print(f\"❄️  NaN fraction: {nan_frac*100:.1f}%\")\n",
    "    print(f\"🧭  Lat range: {lat_range[0]:.1f} to {lat_range[1]:.1f} (mean: {mean_lat:.1f})\")\n"
   ]
  },
  {
   "cell_type": "code",
   "execution_count": null,
   "id": "37a090fe",
   "metadata": {},
   "outputs": [],
   "source": []
  }
 ],
 "metadata": {
  "kernelspec": {
   "display_name": "venv",
   "language": "python",
   "name": "python3"
  },
  "language_info": {
   "codemirror_mode": {
    "name": "ipython",
    "version": 3
   },
   "file_extension": ".py",
   "mimetype": "text/x-python",
   "name": "python",
   "nbconvert_exporter": "python",
   "pygments_lexer": "ipython3",
   "version": "3.12.3"
  }
 },
 "nbformat": 4,
 "nbformat_minor": 5
}
